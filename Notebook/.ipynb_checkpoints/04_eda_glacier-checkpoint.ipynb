{
 "cells": [
  {
   "cell_type": "code",
   "execution_count": 1,
   "id": "1f1559f2-b0e1-44ea-b595-0b54446890c6",
   "metadata": {},
   "outputs": [],
   "source": [
    "import pandas as pd\n",
    "import matplotlib.pyplot as plt\n",
    "import seaborn as sns\n",
    "\n",
    "%matplotlib inline  \n",
    "\n",
    "# Load cleaned data\n",
    "df = pd.read_csv(r\"C:\\Users\\youg_\\capstone-project-YougOsti\\Data\\Raw\\Weather&Climate_data\\annual-minimum-and-maximum-temperature-by-stations_NSO.csv\", low_memory=False)\n"
   ]
  },
  {
   "cell_type": "code",
   "execution_count": 4,
   "id": "9fbc4bef-b71b-4f9a-a46e-1485ecdac88a",
   "metadata": {},
   "outputs": [
    {
     "data": {
      "text/html": [
       "<div>\n",
       "<style scoped>\n",
       "    .dataframe tbody tr th:only-of-type {\n",
       "        vertical-align: middle;\n",
       "    }\n",
       "\n",
       "    .dataframe tbody tr th {\n",
       "        vertical-align: top;\n",
       "    }\n",
       "\n",
       "    .dataframe thead th {\n",
       "        text-align: right;\n",
       "    }\n",
       "</style>\n",
       "<table border=\"1\" class=\"dataframe\">\n",
       "  <thead>\n",
       "    <tr style=\"text-align: right;\">\n",
       "      <th></th>\n",
       "      <th>Station</th>\n",
       "      <th>District</th>\n",
       "      <th>Elevation(masl)</th>\n",
       "      <th>Max</th>\n",
       "      <th>Min</th>\n",
       "      <th>Year</th>\n",
       "    </tr>\n",
       "  </thead>\n",
       "  <tbody>\n",
       "    <tr>\n",
       "      <th>267</th>\n",
       "      <td>Lahan</td>\n",
       "      <td>Siraha</td>\n",
       "      <td>110.0</td>\n",
       "      <td>30.4</td>\n",
       "      <td>19.0</td>\n",
       "      <td>2018</td>\n",
       "    </tr>\n",
       "    <tr>\n",
       "      <th>713</th>\n",
       "      <td>Manthali</td>\n",
       "      <td>Ramechhap</td>\n",
       "      <td>497.0</td>\n",
       "      <td>30.4</td>\n",
       "      <td>NaN</td>\n",
       "      <td>2021</td>\n",
       "    </tr>\n",
       "    <tr>\n",
       "      <th>755</th>\n",
       "      <td>Dainsili Sidhhapur</td>\n",
       "      <td>Baitadi</td>\n",
       "      <td>2083.0</td>\n",
       "      <td>NaN</td>\n",
       "      <td>11.2</td>\n",
       "      <td>2022</td>\n",
       "    </tr>\n",
       "    <tr>\n",
       "      <th>209</th>\n",
       "      <td>Taulihawa</td>\n",
       "      <td>Kapilvastu</td>\n",
       "      <td>106.0</td>\n",
       "      <td>30.1</td>\n",
       "      <td>19.0</td>\n",
       "      <td>2018</td>\n",
       "    </tr>\n",
       "  </tbody>\n",
       "</table>\n",
       "</div>"
      ],
      "text/plain": [
       "                 Station    District  Elevation(masl)   Max   Min  Year\n",
       "267                Lahan      Siraha            110.0  30.4  19.0  2018\n",
       "713             Manthali   Ramechhap            497.0  30.4   NaN  2021\n",
       "755  Dainsili Sidhhapur      Baitadi           2083.0   NaN  11.2  2022\n",
       "209            Taulihawa  Kapilvastu            106.0  30.1  19.0  2018"
      ]
     },
     "execution_count": 4,
     "metadata": {},
     "output_type": "execute_result"
    }
   ],
   "source": [
    "df.sample(4)"
   ]
  },
  {
   "cell_type": "code",
   "execution_count": null,
   "id": "d40e9ea8-e512-4931-b7e9-a3f6779bb6c7",
   "metadata": {},
   "outputs": [],
   "source": []
  }
 ],
 "metadata": {
  "kernelspec": {
   "display_name": "Python 3 (ipykernel)",
   "language": "python",
   "name": "python3"
  },
  "language_info": {
   "codemirror_mode": {
    "name": "ipython",
    "version": 3
   },
   "file_extension": ".py",
   "mimetype": "text/x-python",
   "name": "python",
   "nbconvert_exporter": "python",
   "pygments_lexer": "ipython3",
   "version": "3.12.3"
  }
 },
 "nbformat": 4,
 "nbformat_minor": 5
}
