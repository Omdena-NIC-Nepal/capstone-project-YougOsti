{
 "cells": [
  {
   "cell_type": "code",
   "execution_count": null,
   "id": "8fc90a05-7884-4024-a5ef-5e6e341a26d6",
   "metadata": {},
   "outputs": [],
   "source": [
    "import pandas as pd\n",
    "import matplotlib.pyplot as plt\n",
    "import seaborn as sns\n",
    "\n",
    "%matplotlib inline  \n",
    "\n",
    "# Load cleaned data\n",
    "df = pd.read_csv(r\"C:\\Users\\youg_\\capstone-project-YougOsti\\processed\\cleaned_dailyclimate.csv\")\n"
   ]
  },
  {
   "cell_type": "code",
   "execution_count": null,
   "id": "6982fb40-5ba6-4b3d-b14c-734a54ab789e",
   "metadata": {},
   "outputs": [],
   "source": [
    "\n",
    "# Remove duplicated columns\n",
    "df = df.loc[:, ~df.columns.duplicated()]\n",
    "\n"
   ]
  },
  {
   "cell_type": "code",
   "execution_count": null,
   "id": "c81daafc-3fa2-4f3e-b5bd-2030b17d0e9f",
   "metadata": {},
   "outputs": [],
   "source": [
    "# Convert 'Date' column to datetime\n",
    "df['Date'] = pd.to_datetime(df['Date'], errors='coerce')\n",
    "df = df.dropna(subset=['Date'])\n",
    "\n"
   ]
  },
  {
   "cell_type": "code",
   "execution_count": null,
   "id": "41113b2e-72a5-4c30-9688-98f68c43836b",
   "metadata": {},
   "outputs": [],
   "source": [
    "# Create a new column for 20-year time spans\n",
    "df['20_Year_Group'] = (df['Date'].dt.year // 20) * 20\n",
    "\n",
    "# Check if 'Temp_2m' exists and is not empty\n",
    "print(df['Temp_2m'].describe())\n",
    "\n"
   ]
  },
  {
   "cell_type": "code",
   "execution_count": null,
   "id": "5bc282f5-c274-4630-96aa-5f6fa7fc1fe7",
   "metadata": {},
   "outputs": [],
   "source": [
    "# Group by 20-year time span and calculate mean\n",
    "grouped = df.groupby('20_Year_Group').mean()\n",
    "\n",
    "# Reset index\n",
    "grouped.reset_index(inplace=True)\n",
    "\n"
   ]
  },
  {
   "cell_type": "code",
   "execution_count": null,
   "id": "ac34b6e1-4b01-4771-838e-c57e715cecd4",
   "metadata": {},
   "outputs": [],
   "source": [
    "print(grouped[['20_Year_Group', 'Temp_2m']])\n",
    "\n"
   ]
  },
  {
   "cell_type": "code",
   "execution_count": null,
   "id": "daa03a2b-51ef-41cd-a4fe-91576552fe2d",
   "metadata": {},
   "outputs": [],
   "source": [
    "# Plotting average temperature over 20-year spans\n",
    "plt.figure(figsize=(10, 6))\n",
    "sns.lineplot(data=grouped, x='20_Year_Group', y='Temp_2m', marker='o')\n",
    "plt.title('Average Temperature (2m) Over 20-Year Time Spans')\n",
    "plt.xlabel('20-Year Time Span')\n",
    "plt.ylabel('Average Temperature (°C)')\n",
    "plt.grid(True)\n",
    "plt.show()\n"
   ]
  }
 ],
 "metadata": {
  "kernelspec": {
   "display_name": "Python 3 (ipykernel)",
   "language": "python",
   "name": "python3"
  },
  "language_info": {
   "codemirror_mode": {
    "name": "ipython",
    "version": 3
   },
   "file_extension": ".py",
   "mimetype": "text/x-python",
   "name": "python",
   "nbconvert_exporter": "python",
   "pygments_lexer": "ipython3",
   "version": "3.12.3"
  }
 },
 "nbformat": 4,
 "nbformat_minor": 5
}
